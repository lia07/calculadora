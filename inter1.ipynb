{
  "nbformat": 4,
  "nbformat_minor": 0,
  "metadata": {
    "colab": {
      "provenance": [],
      "authorship_tag": "ABX9TyPBx0cUC8vfSP2NUrBGPxQY",
      "include_colab_link": true
    },
    "kernelspec": {
      "name": "python3",
      "display_name": "Python 3"
    },
    "language_info": {
      "name": "python"
    }
  },
  "cells": [
    {
      "cell_type": "markdown",
      "metadata": {
        "id": "view-in-github",
        "colab_type": "text"
      },
      "source": [
        "<a href=\"https://colab.research.google.com/github/lia07/calculadora/blob/master/inter1.ipynb\" target=\"_parent\"><img src=\"https://colab.research.google.com/assets/colab-badge.svg\" alt=\"Open In Colab\"/></a>"
      ]
    },
    {
      "cell_type": "markdown",
      "source": [
        "## Ejercicio **1**"
      ],
      "metadata": {
        "id": "YwKLje0Ibnq3"
      }
    },
    {
      "cell_type": "markdown",
      "source": [
        "1 Definir una funcion max() que tome como argumento dos numeros\n",
        " y devuelva el mayor de ellos.(Es cierto que python tienen una\n",
        " funcion max() incorporada, pero hacerla nosotros mismos en un muy buen ejercicio)"
      ],
      "metadata": {
        "id": "DP2u_CNo2MEt"
      }
    },
    {
      "cell_type": "code",
      "source": [
        "#1\n",
        "\n",
        "def function_max(n1,n2):\n",
        "  if n1>n2:\n",
        "    return n1\n",
        "  else:\n",
        "    return n2\n",
        "\n",
        "  print(function_max(-1, -5))\n",
        "\n"
      ],
      "metadata": {
        "id": "HLNY6YW9bqyj"
      },
      "execution_count": 18,
      "outputs": []
    },
    {
      "cell_type": "markdown",
      "source": [
        "2. Definir una funcion max_de_tres(), que tome tres numeros como argumentos y devuelva el mayor de ellos.\n"
      ],
      "metadata": {
        "id": "BtFt0tNqnWYt"
      }
    },
    {
      "cell_type": "code",
      "source": [
        "def funcion_max_de_tres(n1,n2,n3):\n",
        "  #comparar los dos primeros\n",
        "  if n1>n2 and n1>n3:\n",
        "    return n1\n",
        "  elif n2 > n1 and n2 > n3:\n",
        "    return n2\n",
        "  else:\n",
        "    return n3\n",
        "  \n",
        "  print(funcion_max_de_tres(10,-1,2))"
      ],
      "metadata": {
        "id": "O-S40nrgbrZC"
      },
      "execution_count": null,
      "outputs": []
    },
    {
      "cell_type": "markdown",
      "source": [
        "3. Definir una funcion que calcule la longitud de una lista o una cadena dada. (Es cierto que python tiene la funcion len() incorporada, pero escribirla por nosotros mismos resulta un muy buen ejercicio.)"
      ],
      "metadata": {
        "id": "QbmHhl6VqXao"
      }
    },
    {
      "cell_type": "code",
      "source": [
        "def is_vocal(caracter):\n",
        "  lista_vocales = ['a', 'e', 'i', 'o','u']\n",
        "  if caracter in lista_vocales:\n",
        "    return True\n",
        "  else:\n",
        "    return False\n",
        "\n",
        "  print(is_vocal('e'))"
      ],
      "metadata": {
        "id": "mUL-GE6GbrUj"
      },
      "execution_count": null,
      "outputs": []
    },
    {
      "cell_type": "markdown",
      "source": [
        "4. Escribir una funcion que tome en caracter  y devuelva True si es una vocal, de lo contrario devuelve False."
      ],
      "metadata": {
        "id": "Z_Vd97u_uA7t"
      }
    },
    {
      "cell_type": "code",
      "source": [
        "def is_vocal(caracter):\n",
        "  lista_vocales = ['a', 'e', 'i', 'o','u']\n",
        "  if caracter in lista_vocales:\n",
        "    return True\n",
        "  else:\n",
        "    return False\n",
        "\n",
        "  print(is_vocal('e'))"
      ],
      "metadata": {
        "id": "HgcbC5oSw-lM"
      },
      "execution_count": null,
      "outputs": []
    },
    {
      "cell_type": "markdown",
      "source": [
        "5. Escribir una funcion sum() y una funcion multip() que sumen y multipliquen respectivamente todos los numeros de una lista. Por ejemplo: sum([1,2,3,4]) deberia devover 10 y milti([1,2,3,4]) deberia devolver 24."
      ],
      "metadata": {
        "id": "2Ck6Tk8P3mGa"
      }
    },
    {
      "cell_type": "code",
      "source": [
        "def sum(lista):\n",
        "  result = 0\n",
        "  for n in lista:\n",
        "    result = result + (n)\n",
        "\n",
        "  print(result)\n",
        "\n",
        "sum([1,2,-1])"
      ],
      "metadata": {
        "id": "uxKyaFzuw_QS",
        "colab": {
          "base_uri": "https://localhost:8080/"
        },
        "outputId": "120c1416-7baa-4569-e140-48f5dd12c4cb"
      },
      "execution_count": 19,
      "outputs": [
        {
          "output_type": "stream",
          "name": "stdout",
          "text": [
            "2\n"
          ]
        }
      ]
    },
    {
      "cell_type": "code",
      "source": [
        "def mult(lista):\n",
        "  result = lista[0]\n",
        "  i = 1\n",
        "  while i in range(1, len(lista)):\n",
        "    result = result*lista[i]\n",
        "    i+=1\n",
        "    print(result)\n",
        "mult([2,2,2])"
      ],
      "metadata": {
        "colab": {
          "base_uri": "https://localhost:8080/"
        },
        "id": "LDanEKnUgX5r",
        "outputId": "d29453fb-c8ed-4419-f2b0-3a8d0f6e187a"
      },
      "execution_count": 25,
      "outputs": [
        {
          "output_type": "stream",
          "name": "stdout",
          "text": [
            "4\n",
            "8\n"
          ]
        }
      ]
    },
    {
      "cell_type": "code",
      "source": [
        "#create.vista.com"
      ],
      "metadata": {
        "id": "H1C1l0HGgtw8"
      },
      "execution_count": null,
      "outputs": []
    },
    {
      "cell_type": "markdown",
      "source": [
        "6. Definir una funcion inversa() que calcule la inversion de una cadena. Por ejemplo la cadena \"estoy probando\" deberia devolver la cadena \"odnaborp yotse\""
      ],
      "metadata": {
        "id": "NwzbGBNeNBVR"
      }
    },
    {
      "cell_type": "code",
      "source": [
        "def inversa(cadena):\n",
        "  long = -(len(cadena)-1)\n",
        "  nueva_cadena  = str()\n",
        "  for n in range(long, 1):\n",
        "    n = abs(n)\n",
        "    nueva_cadena += cadena[n]\n",
        "  print(nueva_cadena)\n",
        "\n",
        "# inversa('pepito')\n",
        "inversa('estoy probando')"
      ],
      "metadata": {
        "id": "tb1Yjqq7w-hx",
        "colab": {
          "base_uri": "https://localhost:8080/"
        },
        "outputId": "bca692d1-e2fa-46e8-b5a1-9436d61149d5"
      },
      "execution_count": 31,
      "outputs": [
        {
          "output_type": "stream",
          "name": "stdout",
          "text": [
            "odnaborp yotse\n"
          ]
        }
      ]
    },
    {
      "cell_type": "markdown",
      "source": [
        "7. Definir una funcion es_palindromo() que reconoce palindromos(es decir, palabras que tienen el mismo aspecto escritas), ejemplo: es_palindromo (\"radar\") tendria que devolver True."
      ],
      "metadata": {
        "id": "MIRnWtcIn6hd"
      }
    },
    {
      "cell_type": "code",
      "source": [
        "def es_palindromo(cadena):\n",
        "  nueva_cadena = inversa(cadena)\n",
        "  if nueva_cadena == cadena:\n",
        "    return True\n",
        "\n",
        "print(es_palindromo('radar'))\n",
        "\n"
      ],
      "metadata": {
        "id": "ZE7Q06xubrRo",
        "colab": {
          "base_uri": "https://localhost:8080/"
        },
        "outputId": "a6ec385e-d893-47fc-f4cd-a968fe4c4048"
      },
      "execution_count": 35,
      "outputs": [
        {
          "output_type": "stream",
          "name": "stdout",
          "text": [
            "radar\n",
            "None\n"
          ]
        }
      ]
    },
    {
      "cell_type": "markdown",
      "source": [
        "8. definir una funcion superpsicion() que tome dos listas y devuelva True si tienen al menos 1 miembro en comun o devuelva False de lo contrario. Escribir la funcion usando el bucle for anidado."
      ],
      "metadata": {
        "id": "xKyCWsIipUx-"
      }
    },
    {
      "cell_type": "code",
      "source": [
        "def superposicion(lista1, lista2):\n",
        "  for elemento in lista1:\n",
        "    if elemento in lista2:\n",
        "      return True\n",
        "\n",
        "    return False\n",
        "\n",
        "print('Superposicion:')\n",
        "print(superposicion([1,2,3], [1,4,5]))\n"
      ],
      "metadata": {
        "id": "CbROJZUBxdwK",
        "colab": {
          "base_uri": "https://localhost:8080/"
        },
        "outputId": "4bd76831-933f-46c1-aec9-e5a9d4a33748"
      },
      "execution_count": 3,
      "outputs": [
        {
          "output_type": "stream",
          "name": "stdout",
          "text": [
            "Superposicion:\n",
            "True\n"
          ]
        }
      ]
    },
    {
      "cell_type": "code",
      "source": [
        "def superposicion(lista1, lista2):\n",
        "  for elemento in lista1:\n",
        "    for elemento2 in lista2:\n",
        "      if elemento == elemento2:\n",
        "        return True\n",
        "  return False\n",
        "   \n",
        "\n",
        "print('Superposicion:')\n",
        "print(superposicion([1,2,3], [3,4,5]))"
      ],
      "metadata": {
        "colab": {
          "base_uri": "https://localhost:8080/"
        },
        "id": "syDo_DNkfUDY",
        "outputId": "dec74956-1b8e-4e64-dc29-5eb09f68b0d7"
      },
      "execution_count": 7,
      "outputs": [
        {
          "output_type": "stream",
          "name": "stdout",
          "text": [
            "Superposicion:\n",
            "True\n"
          ]
        }
      ]
    },
    {
      "cell_type": "markdown",
      "source": [
        "9. Definir una funcion generar_n_caracteres() que tome un entero n y devuelva  el caracter multiplicado por n. Por ejemplo: generar_n_caracteres(5, 'x') deberia devolver \"xxxxx\"."
      ],
      "metadata": {
        "id": "mLM5wZD9qqhF"
      }
    },
    {
      "cell_type": "code",
      "source": [
        "def generar_n_caracteres(caracter, n):\n",
        "  string = caracter\n",
        "  # print(caracter * 3)\n",
        "\n",
        "  for i in range(1, n):\n",
        "    string += caracter\n",
        "  print(string)\n",
        "\n",
        "generar_n_caracteres('abc', 2)\n",
        "\n"
      ],
      "metadata": {
        "id": "Y6TqR_Vuxdgb",
        "colab": {
          "base_uri": "https://localhost:8080/"
        },
        "outputId": "d49e35b8-6a0e-464e-fd63-db5c84abc162"
      },
      "execution_count": 10,
      "outputs": [
        {
          "output_type": "stream",
          "name": "stdout",
          "text": [
            "abcabc\n"
          ]
        }
      ]
    },
    {
      "cell_type": "code",
      "source": [
        "def generar_n_caracteres(caracter, n):\n",
        "  string = caracter\n",
        "  print(caracter * n)\n",
        "\n",
        "  # for i in range(1, n):\n",
        "  #   string += caracter\n",
        "  # print(string)\n",
        "\n",
        "generar_n_caracteres('abc', 10)"
      ],
      "metadata": {
        "colab": {
          "base_uri": "https://localhost:8080/"
        },
        "id": "4RLzA0sSnGQc",
        "outputId": "b6ba8a2d-3f89-4dc2-ec64-ed283742c88b"
      },
      "execution_count": 13,
      "outputs": [
        {
          "output_type": "stream",
          "name": "stdout",
          "text": [
            "abcabcabcabcabcabcabcabcabcabc\n"
          ]
        }
      ]
    },
    {
      "cell_type": "markdown",
      "source": [
        "10. Definir un histograma procedimiento() que tome una lista de numeros enteros e imprima un histograma en la pantalla. Ejemplo: procedimiento([4,9,7]) deberia imprimir lo sisguiente:\n",
        "\n",
        "\n",
        "*   ****\n",
        "*   *********\n",
        "*   *******\n"
      ],
      "metadata": {
        "id": "xYPaj6PPi0ZA"
      }
    },
    {
      "cell_type": "code",
      "source": [
        "def procedimiento(lista):\n",
        "  for n in lista:\n",
        "    histograma = '*' * n\n",
        "    print(f'{histograma}\\n')\n",
        "\n",
        "procedimiento([4,9,7])"
      ],
      "metadata": {
        "id": "nBvj3wmKbrMm",
        "colab": {
          "base_uri": "https://localhost:8080/"
        },
        "outputId": "9fffc504-87b4-4c84-d0e8-53380be7d94a"
      },
      "execution_count": 14,
      "outputs": [
        {
          "output_type": "stream",
          "name": "stdout",
          "text": [
            "****\n",
            "\n",
            "*********\n",
            "\n",
            "*******\n",
            "\n"
          ]
        }
      ]
    }
  ]
}